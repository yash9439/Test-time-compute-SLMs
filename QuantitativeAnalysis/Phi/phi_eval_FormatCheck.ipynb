{
 "cells": [
  {
   "cell_type": "code",
   "execution_count": 4,
   "id": "b41754c8",
   "metadata": {},
   "outputs": [],
   "source": [
    "import pandas as pd\n",
    "\n",
    "aime24 = pd.read_csv(\"ZeroShot/aime24_Phi4mini_HF_zeroshot_single.csv\")\n",
    "gpqa = pd.read_csv(\"ZeroShot/gpqa_Phi4mini_HF_zeroshot_single.csv\")\n",
    "math500 = pd.read_csv(\"ZeroShot/math500_Phi4mini_HF_zeroshot_single.csv\")"
   ]
  },
  {
   "cell_type": "code",
   "execution_count": 5,
   "id": "a1d43459",
   "metadata": {},
   "outputs": [
    {
     "data": {
      "text/plain": [
       "Index(['id', 'problem', 'solution', 'answer', 'url', 'question',\n",
       "       'orig_solution', 'model_response_raw', 'model_answer_extracted'],\n",
       "      dtype='object')"
      ]
     },
     "execution_count": 5,
     "metadata": {},
     "output_type": "execute_result"
    }
   ],
   "source": [
    "aime24.columns"
   ]
  },
  {
   "cell_type": "code",
   "execution_count": 6,
   "id": "9b92bdef",
   "metadata": {},
   "outputs": [
    {
     "name": "stdout",
     "output_type": "stream",
     "text": [
      "Number of matching samples: 355 out of 500\n"
     ]
    }
   ],
   "source": [
    "import pandas as pd\n",
    "import re\n",
    "\n",
    "# Example: assuming df is your DataFrame\n",
    "pattern = r\"<reasoning>.*?</reasoning>\\s*<answer>.*?</answer>\"\n",
    "\n",
    "df = math500\n",
    "\n",
    "\n",
    "# Count rows matching the pattern (ignoring NaNs)\n",
    "matches = df['model_response_raw'].dropna().str.fullmatch(pattern, flags=re.DOTALL)\n",
    "count = matches.sum()\n",
    "\n",
    "print(f\"Number of matching samples: {count} out of {len(df)}\")"
   ]
  },
  {
   "cell_type": "code",
   "execution_count": null,
   "id": "8a927700",
   "metadata": {},
   "outputs": [],
   "source": []
  }
 ],
 "metadata": {
  "kernelspec": {
   "display_name": "base",
   "language": "python",
   "name": "python3"
  },
  "language_info": {
   "codemirror_mode": {
    "name": "ipython",
    "version": 3
   },
   "file_extension": ".py",
   "mimetype": "text/x-python",
   "name": "python",
   "nbconvert_exporter": "python",
   "pygments_lexer": "ipython3",
   "version": "3.12.2"
  }
 },
 "nbformat": 4,
 "nbformat_minor": 5
}
