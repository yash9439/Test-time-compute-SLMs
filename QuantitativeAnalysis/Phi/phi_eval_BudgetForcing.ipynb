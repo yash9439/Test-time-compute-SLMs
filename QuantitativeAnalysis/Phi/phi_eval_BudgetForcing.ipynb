{
 "cells": [
  {
   "cell_type": "code",
   "execution_count": 3,
   "id": "b41754c8",
   "metadata": {},
   "outputs": [],
   "source": [
    "import pandas as pd\n",
    "import re\n",
    "\n",
    "aime24 = pd.read_csv(\"BudgetForcing/aime24_Phi_BudgetForcing.csv\")\n",
    "gpqa = pd.read_csv(\"BudgetForcing/gpqa_Phi_BudgetForcing.csv\")\n",
    "math500 = pd.read_csv(\"BudgetForcing/math500_Phi_BudgetForcing.csv\")"
   ]
  },
  {
   "cell_type": "code",
   "execution_count": 4,
   "id": "9b92bdef",
   "metadata": {},
   "outputs": [],
   "source": [
    "math500 = math500[[\"answer\",\"ZeroShot_ReasoningTrace_ans\",\"Wait_1_ReasoningTrace_ans\",\"Wait_2_ReasoningTrace_ans\",\"Wait_3_ReasoningTrace_ans\",\"Wait_4_ReasoningTrace_ans\",\"Wait_5_ReasoningTrace_ans\"]]\n",
    "gpqa = gpqa[[\"Correct Answer\", \"shuffled_correct_option\", \"ZeroShot_ReasoningTrace_ans\",\"Wait_1_ReasoningTrace_ans\",\"Wait_2_ReasoningTrace_ans\",\"Wait_3_ReasoningTrace_ans\",\"Wait_4_ReasoningTrace_ans\",\"Wait_5_ReasoningTrace_ans\"]]\n",
    "aime24 = aime24[[\"answer\",\"ZeroShot_ReasoningTrace_ans\",\"Wait_1_ReasoningTrace_ans\",\"Wait_2_ReasoningTrace_ans\",\"Wait_3_ReasoningTrace_ans\",\"Wait_4_ReasoningTrace_ans\",\"Wait_5_ReasoningTrace_ans\"]]\n",
    "\n",
    "# Save the modified DataFrames to new CSV files\n",
    "math500.to_csv(\"BudgetForcing/math500_Phi_BudgetForcing_extracted.csv\", index=False)\n",
    "gpqa.to_csv(\"BudgetForcing/gpqa_Phi_BudgetForcing_extracted.csv\", index=False)\n",
    "aime24.to_csv(\"BudgetForcing/aime24_Phi_BudgetForcing_extracted.csv\", index=False)"
   ]
  },
  {
   "cell_type": "markdown",
   "id": "b34aea6a",
   "metadata": {},
   "source": [
    "# GPQA Accuracy"
   ]
  },
  {
   "cell_type": "code",
   "execution_count": null,
   "id": "8a927700",
   "metadata": {},
   "outputs": [],
   "source": [
    "def matches(row):\n",
    "    correct = row['shuffled_correct_option_label'].strip()\n",
    "    model_answer = str(row['model_answer_extracted']).strip()\n",
    "    return (\n",
    "        correct == model_answer or\n",
    "        f\">{correct}<\" in model_answer\n",
    "    )\n",
    "\n",
    "matched_count = gpqa.apply(matches, axis=1).sum()\n",
    "print(f\"Number of matching rows: {matched_count}\")"
   ]
  },
  {
   "cell_type": "markdown",
   "id": "f5f919c9",
   "metadata": {},
   "source": [
    "# AIME24 Accuracy"
   ]
  },
  {
   "cell_type": "code",
   "execution_count": 9,
   "id": "8f963cbb",
   "metadata": {},
   "outputs": [
    {
     "name": "stdout",
     "output_type": "stream",
     "text": [
      "Checking matches for ZeroShot_ReasoningTrace_ans\n",
      "Number of matching rows for ZeroShot_ReasoningTrace_ans: 0\n",
      "Checking matches for Wait_1_ReasoningTrace_ans\n",
      "Number of matching rows for Wait_1_ReasoningTrace_ans: 0\n",
      "Checking matches for Wait_2_ReasoningTrace_ans\n",
      "Number of matching rows for Wait_2_ReasoningTrace_ans: 0\n",
      "Checking matches for Wait_3_ReasoningTrace_ans\n",
      "Number of matching rows for Wait_3_ReasoningTrace_ans: 0\n",
      "Checking matches for Wait_4_ReasoningTrace_ans\n",
      "Number of matching rows for Wait_4_ReasoningTrace_ans: 0\n",
      "Checking matches for Wait_5_ReasoningTrace_ans\n",
      "Number of matching rows for Wait_5_ReasoningTrace_ans: 0\n"
     ]
    }
   ],
   "source": [
    "def extract_numbers(text):\n",
    "    # Extract integers, decimals, scientific notation, and negative numbers\n",
    "    return re.findall(r\"-?\\d+(?:\\.\\d+)?(?:e[+-]?\\d+)?\", str(text).lower())\n",
    "\n",
    "def matches(row, answer_col, model_answer_col):\n",
    "    answer_numbers = extract_numbers(row[answer_col])\n",
    "    model_numbers = extract_numbers(row[model_answer_col])\n",
    "\n",
    "    # Check if all numbers from answer are in model_answer\n",
    "    return all(num in model_numbers for num in answer_numbers)\n",
    "\n",
    "waits = [\"ZeroShot_ReasoningTrace_ans\",\"Wait_1_ReasoningTrace_ans\",\"Wait_2_ReasoningTrace_ans\",\"Wait_3_ReasoningTrace_ans\",\"Wait_4_ReasoningTrace_ans\",\"Wait_5_ReasoningTrace_ans\"]\n",
    "\n",
    "for wait in waits:\n",
    "    print(f\"Checking matches for {wait}\")\n",
    "    matched_count = aime24.apply(\n",
    "        lambda row: matches(row, \"answer\", wait), axis=1\n",
    "    ).sum()\n",
    "    print(f\"Number of matching rows for {wait}: {matched_count}\")"
   ]
  },
  {
   "cell_type": "markdown",
   "id": "11f7e2b3",
   "metadata": {},
   "source": [
    "# MATH500"
   ]
  },
  {
   "cell_type": "code",
   "execution_count": 8,
   "id": "432bdc96",
   "metadata": {},
   "outputs": [
    {
     "name": "stdout",
     "output_type": "stream",
     "text": [
      "Checking matches for ZeroShot_ReasoningTrace_ans\n",
      "Number of matching rows for ZeroShot_ReasoningTrace_ans: 217\n",
      "Checking matches for Wait_1_ReasoningTrace_ans\n",
      "Number of matching rows for Wait_1_ReasoningTrace_ans: 213\n",
      "Checking matches for Wait_2_ReasoningTrace_ans\n",
      "Number of matching rows for Wait_2_ReasoningTrace_ans: 214\n",
      "Checking matches for Wait_3_ReasoningTrace_ans\n",
      "Number of matching rows for Wait_3_ReasoningTrace_ans: 209\n",
      "Checking matches for Wait_4_ReasoningTrace_ans\n",
      "Number of matching rows for Wait_4_ReasoningTrace_ans: 202\n",
      "Checking matches for Wait_5_ReasoningTrace_ans\n",
      "Number of matching rows for Wait_5_ReasoningTrace_ans: 195\n"
     ]
    }
   ],
   "source": [
    "def extract_numbers(text):\n",
    "    # Extract integers, decimals, scientific notation, and negative numbers\n",
    "    return re.findall(r\"-?\\d+(?:\\.\\d+)?(?:e[+-]?\\d+)?\", str(text).lower())\n",
    "\n",
    "def matches(row, answer_col, model_answer_col):\n",
    "    answer_numbers = extract_numbers(row[answer_col])\n",
    "    model_numbers = extract_numbers(row[model_answer_col])\n",
    "\n",
    "    # Check if all numbers from answer are in model_answer\n",
    "    return all(num in model_numbers for num in answer_numbers)\n",
    "\n",
    "waits = [\"ZeroShot_ReasoningTrace_ans\",\"Wait_1_ReasoningTrace_ans\",\"Wait_2_ReasoningTrace_ans\",\"Wait_3_ReasoningTrace_ans\",\"Wait_4_ReasoningTrace_ans\",\"Wait_5_ReasoningTrace_ans\"]\n",
    "\n",
    "for wait in waits:\n",
    "    print(f\"Checking matches for {wait}\")\n",
    "    matched_count = math500.apply(\n",
    "        lambda row: matches(row, \"answer\", wait), axis=1\n",
    "    ).sum()\n",
    "    print(f\"Number of matching rows for {wait}: {matched_count}\")"
   ]
  },
  {
   "cell_type": "code",
   "execution_count": null,
   "id": "85b36056",
   "metadata": {},
   "outputs": [],
   "source": []
  }
 ],
 "metadata": {
  "kernelspec": {
   "display_name": "base",
   "language": "python",
   "name": "python3"
  },
  "language_info": {
   "codemirror_mode": {
    "name": "ipython",
    "version": 3
   },
   "file_extension": ".py",
   "mimetype": "text/x-python",
   "name": "python",
   "nbconvert_exporter": "python",
   "pygments_lexer": "ipython3",
   "version": "3.12.2"
  }
 },
 "nbformat": 4,
 "nbformat_minor": 5
}
