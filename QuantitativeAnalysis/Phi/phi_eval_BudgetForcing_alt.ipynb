{
 "cells": [
  {
   "cell_type": "code",
   "execution_count": 33,
   "id": "b41754c8",
   "metadata": {},
   "outputs": [],
   "source": [
    "import pandas as pd\n",
    "import re\n",
    "\n",
    "aime24 = pd.read_csv(\"BudgetForcing_V2/aime24_Phi_BudgetForcing.csv\")\n",
    "gpqa = pd.read_csv(\"BudgetForcing_V2/gpqa_Phi_BudgetForcing.csv\")\n",
    "math500 = pd.read_csv(\"BudgetForcing_V2/math500_Phi_BudgetForcing.csv\")"
   ]
  },
  {
   "cell_type": "code",
   "execution_count": 35,
   "id": "9b92bdef",
   "metadata": {},
   "outputs": [],
   "source": [
    "math500 = math500[[\"answer\",\"ZeroShot_ReasoningTrace\",\"Wait_1_ReasoningTrace\",\"Wait_2_ReasoningTrace\",\"Wait_3_ReasoningTrace\"]]\n",
    "gpqa = gpqa[[\"Correct Answer\", \"shuffled_correct_option\", \"ZeroShot_ReasoningTrace_ans\",\"Wait_1_ReasoningTrace_ans\",\"Wait_2_ReasoningTrace_ans\",\"Wait_3_ReasoningTrace_ans\"]]\n",
    "aime24 = aime24[[\"answer\",\"ZeroShot_ReasoningTrace\",\"Wait_1_ReasoningTrace\",\"Wait_2_ReasoningTrace\",\"Wait_3_ReasoningTrace\"]]\n",
    "\n",
    "cols = [\"ZeroShot_ReasoningTrace\", \"Wait_1_ReasoningTrace\", \"Wait_2_ReasoningTrace\", \"Wait_3_ReasoningTrace\"]\n",
    "\n",
    "for df in [math500, aime24]:\n",
    "    for col in cols:\n",
    "        df[col] = df[col].astype(str).apply(lambda x: ' '.join(x.split()[:]))\n",
    "\n",
    "# Save the modified DataFrames to new CSV files\n",
    "math500.to_csv(\"BudgetForcing_V2/math500_Phi_BudgetForcing_extracted.csv\", index=False)\n",
    "gpqa.to_csv(\"BudgetForcing_V2/gpqa_Phi_BudgetForcing_extracted.csv\", index=False)\n",
    "aime24.to_csv(\"BudgetForcing_V2/aime24_Phi_BudgetForcing_extracted.csv\", index=False)"
   ]
  },
  {
   "cell_type": "markdown",
   "id": "b34aea6a",
   "metadata": {},
   "source": [
    "# GPQA Accuracy"
   ]
  },
  {
   "cell_type": "code",
   "execution_count": 40,
   "id": "8a927700",
   "metadata": {},
   "outputs": [
    {
     "name": "stdout",
     "output_type": "stream",
     "text": [
      "Number of matching rows for ZeroShot_ReasoningTrace_ans: 108\n",
      "Number of matching rows for Wait_1_ReasoningTrace_ans: 107\n",
      "Number of matching rows for Wait_2_ReasoningTrace_ans: 118\n",
      "Number of matching rows for Wait_3_ReasoningTrace_ans: 121\n"
     ]
    }
   ],
   "source": [
    "def matches(row, correct_answer_col, correct_option_col, model_answer_col):\n",
    "    correct_option = row['shuffled_correct_option'].strip()\n",
    "    correct_answer = row['Correct Answer'].strip()\n",
    "    model_answer = str(row[model_answer_col]).strip()\n",
    "\n",
    "    # Convert to lowercase for case-insensitive search\n",
    "    lowered = model_answer.lower()\n",
    "    last_correct_index = lowered.rfind(\"correct\")\n",
    "\n",
    "    # Slice only the part after the last occurrence of \"correct\"\n",
    "    if last_correct_index != -1:\n",
    "        model_answer = model_answer[last_correct_index + len(\"correct\"):].strip()\n",
    "\n",
    "    return (\n",
    "        correct_answer in model_answer or\n",
    "        f\"({correct_option})\" in model_answer or\n",
    "        f\"{correct_option}\" in model_answer\n",
    "    )\n",
    "    \n",
    "waits = [\n",
    "    \"ZeroShot_ReasoningTrace_ans\",\n",
    "    \"Wait_1_ReasoningTrace_ans\",\n",
    "    \"Wait_2_ReasoningTrace_ans\",\n",
    "    \"Wait_3_ReasoningTrace_ans\"\n",
    "]    \n",
    "\n",
    "for wait in waits:\n",
    "    matched_count = gpqa.apply(\n",
    "        lambda row: matches(row, \"Correct Answer\", \"shuffled_correct_option\", wait), axis=1\n",
    "    ).sum()\n",
    "    print(f\"Number of matching rows for {wait}: {matched_count}\")\n"
   ]
  },
  {
   "cell_type": "markdown",
   "id": "f5f919c9",
   "metadata": {},
   "source": [
    "# AIME24 Accuracy"
   ]
  },
  {
   "cell_type": "code",
   "execution_count": 28,
   "id": "8f963cbb",
   "metadata": {},
   "outputs": [
    {
     "name": "stdout",
     "output_type": "stream",
     "text": [
      "Checking matches for ZeroShot_ReasoningTrace\n",
      "Number of matching rows for ZeroShot_ReasoningTrace: 2\n",
      "Checking matches for Wait_1_ReasoningTrace\n",
      "Number of matching rows for Wait_1_ReasoningTrace: 2\n",
      "Checking matches for Wait_2_ReasoningTrace\n",
      "Number of matching rows for Wait_2_ReasoningTrace: 2\n",
      "Checking matches for Wait_3_ReasoningTrace\n",
      "Number of matching rows for Wait_3_ReasoningTrace: 3\n"
     ]
    }
   ],
   "source": [
    "def extract_numbers(text):\n",
    "    # Extract integers, decimals, scientific notation, and negative numbers\n",
    "    return re.findall(r\"-?\\d+(?:\\.\\d+)?(?:e[+-]?\\d+)?\", str(text).lower())\n",
    "\n",
    "def matches(row, answer_col, model_answer_col):\n",
    "    answer_numbers = extract_numbers(row[answer_col])\n",
    "    model_numbers = extract_numbers(row[model_answer_col])\n",
    "\n",
    "    # Check if all numbers from answer are in model_answer\n",
    "    return all(num in model_numbers for num in answer_numbers)\n",
    "\n",
    "waits = [\"ZeroShot_ReasoningTrace\",\"Wait_1_ReasoningTrace\",\"Wait_2_ReasoningTrace\",\"Wait_3_ReasoningTrace\"]\n",
    "\n",
    "for wait in waits:\n",
    "    print(f\"Checking matches for {wait}\")\n",
    "    matched_count = aime24.apply(\n",
    "        lambda row: matches(row, \"answer\", wait), axis=1\n",
    "    ).sum()\n",
    "    print(f\"Number of matching rows for {wait}: {matched_count}\")"
   ]
  },
  {
   "cell_type": "markdown",
   "id": "11f7e2b3",
   "metadata": {},
   "source": [
    "# MATH500"
   ]
  },
  {
   "cell_type": "code",
   "execution_count": 29,
   "id": "432bdc96",
   "metadata": {},
   "outputs": [
    {
     "name": "stdout",
     "output_type": "stream",
     "text": [
      "Checking matches for ZeroShot_ReasoningTrace\n",
      "Number of matching rows for ZeroShot_ReasoningTrace: 269\n",
      "Checking matches for Wait_1_ReasoningTrace\n",
      "Number of matching rows for Wait_1_ReasoningTrace: 290\n",
      "Checking matches for Wait_2_ReasoningTrace\n",
      "Number of matching rows for Wait_2_ReasoningTrace: 303\n",
      "Checking matches for Wait_3_ReasoningTrace\n",
      "Number of matching rows for Wait_3_ReasoningTrace: 320\n"
     ]
    }
   ],
   "source": [
    "def extract_numbers(text):\n",
    "    # Extract integers, decimals, scientific notation, and negative numbers\n",
    "    return re.findall(r\"-?\\d+(?:\\.\\d+)?(?:e[+-]?\\d+)?\", str(text).lower())\n",
    "\n",
    "def matches(row, answer_col, model_answer_col):\n",
    "    answer_numbers = extract_numbers(row[answer_col])\n",
    "    model_numbers = extract_numbers(row[model_answer_col])\n",
    "\n",
    "    # Check if all numbers from answer are in model_answer\n",
    "    return all(num in model_numbers for num in answer_numbers)\n",
    "\n",
    "waits = [\"ZeroShot_ReasoningTrace\",\"Wait_1_ReasoningTrace\",\"Wait_2_ReasoningTrace\",\"Wait_3_ReasoningTrace\"]\n",
    "\n",
    "for wait in waits:\n",
    "    print(f\"Checking matches for {wait}\")\n",
    "    matched_count = math500.apply(\n",
    "        lambda row: matches(row, \"answer\", wait), axis=1\n",
    "    ).sum()\n",
    "    print(f\"Number of matching rows for {wait}: {matched_count}\")"
   ]
  },
  {
   "cell_type": "code",
   "execution_count": null,
   "id": "85b36056",
   "metadata": {},
   "outputs": [],
   "source": []
  }
 ],
 "metadata": {
  "kernelspec": {
   "display_name": "base",
   "language": "python",
   "name": "python3"
  },
  "language_info": {
   "codemirror_mode": {
    "name": "ipython",
    "version": 3
   },
   "file_extension": ".py",
   "mimetype": "text/x-python",
   "name": "python",
   "nbconvert_exporter": "python",
   "pygments_lexer": "ipython3",
   "version": "3.12.2"
  }
 },
 "nbformat": 4,
 "nbformat_minor": 5
}
