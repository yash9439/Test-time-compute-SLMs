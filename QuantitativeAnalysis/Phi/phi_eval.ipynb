{
 "cells": [
  {
   "cell_type": "code",
   "execution_count": 1,
   "id": "b41754c8",
   "metadata": {},
   "outputs": [],
   "source": [
    "import pandas as pd\n",
    "import re\n",
    "\n",
    "aime24 = pd.read_csv(\"ZeroShot/aime24_Phi4mini_HF_zeroshot_single.csv\")\n",
    "gpqa = pd.read_csv(\"ZeroShot/gpqa_Phi4mini_HF_zeroshot_single.csv\")\n",
    "math500 = pd.read_csv(\"ZeroShot/math500_Phi4mini_HF_zeroshot_single.csv\")"
   ]
  },
  {
   "cell_type": "code",
   "execution_count": null,
   "id": "9b92bdef",
   "metadata": {},
   "outputs": [],
   "source": [
    "pattern = r\"<reasoning>.*?</reasoning>\\s*<answer>(.*?)</answer>\"\n",
    "\n",
    "def extract_or_trim(text):\n",
    "    if pd.isna(text):\n",
    "        return \"\"\n",
    "    match = re.fullmatch(r\"<reasoning>.*?</reasoning>\\s*<answer>.*?</answer>\", text, flags=re.DOTALL)\n",
    "    if match:\n",
    "        # Extract content inside <answer>...</answer>\n",
    "        extracted = re.search(pattern, text, flags=re.DOTALL)\n",
    "        return extracted.group(1).strip() if extracted else \"\"\n",
    "    else:\n",
    "        # Return last 15 words\n",
    "        return ' '.join(text.split()[-20:])\n",
    "\n",
    "# Apply to the column and create a new column\n",
    "math500['model_answer_extracted'] = math500['model_response_raw'].apply(extract_or_trim)\n",
    "gpqa['model_answer_extracted'] = gpqa['model_response_raw'].apply(extract_or_trim)\n",
    "aime24['model_answer_extracted'] = aime24['model_response_raw'].apply(extract_or_trim)\n",
    "\n",
    "\n",
    "math500 = math500[[\"answer\",\"model_answer_extracted\"]]\n",
    "gpqa = gpqa[[\"Correct Answer\", \"shuffled_correct_option_label\", \"model_answer_extracted\"]]\n",
    "aime24 = aime24[[\"answer\",\"model_answer_extracted\"]]\n",
    "\n",
    "\n",
    "# Save the modified DataFrames to new CSV files\n",
    "math500.to_csv(\"ZeroShot/math500_Phi4mini_HF_zeroshot_single_extracted.csv\", index=False)\n",
    "gpqa.to_csv(\"ZeroShot/gpqa_Phi4mini_HF_zeroshot_single_extracted.csv\", index=False)\n",
    "aime24.to_csv(\"ZeroShot/aime24_Phi4mini_HF_zeroshot_single_extracted.csv\", index=False)"
   ]
  },
  {
   "cell_type": "markdown",
   "id": "b34aea6a",
   "metadata": {},
   "source": [
    "# GPQA Accuracy"
   ]
  },
  {
   "cell_type": "code",
   "execution_count": 3,
   "id": "8a927700",
   "metadata": {},
   "outputs": [
    {
     "name": "stdout",
     "output_type": "stream",
     "text": [
      "Number of matching rows: 135\n"
     ]
    }
   ],
   "source": [
    "def matches(row):\n",
    "    correct = row['shuffled_correct_option_label'].strip()\n",
    "    model_answer = str(row['model_answer_extracted']).strip()\n",
    "    return (\n",
    "        correct == model_answer or\n",
    "        f\">{correct}<\" in model_answer\n",
    "    )\n",
    "\n",
    "matched_count = gpqa.apply(matches, axis=1).sum()\n",
    "print(f\"Number of matching rows: {matched_count}\")"
   ]
  },
  {
   "cell_type": "markdown",
   "id": "f5f919c9",
   "metadata": {},
   "source": [
    "# AIME24 Accuracy"
   ]
  },
  {
   "cell_type": "code",
   "execution_count": 4,
   "id": "8f963cbb",
   "metadata": {},
   "outputs": [
    {
     "name": "stdout",
     "output_type": "stream",
     "text": [
      "Number of matching rows: 1\n"
     ]
    }
   ],
   "source": [
    "def matches(row):\n",
    "    correct = str(row['answer']).strip()\n",
    "    model_answer = str(row['model_answer_extracted']).strip()\n",
    "    return (\n",
    "        correct in model_answer\n",
    "    )\n",
    "\n",
    "matched_count = aime24.apply(matches, axis=1).sum()\n",
    "print(f\"Number of matching rows: {matched_count}\")"
   ]
  },
  {
   "cell_type": "markdown",
   "id": "11f7e2b3",
   "metadata": {},
   "source": [
    "# MATH500"
   ]
  },
  {
   "cell_type": "code",
   "execution_count": null,
   "id": "432bdc96",
   "metadata": {},
   "outputs": [
    {
     "name": "stdout",
     "output_type": "stream",
     "text": [
      "Number of matching rows: 257\n"
     ]
    }
   ],
   "source": [
    "def extract_numbers(text):\n",
    "    # Extract integers, decimals, scientific notation, and negative numbers\n",
    "    return re.findall(r\"-?\\d+(?:\\.\\d+)?(?:e[+-]?\\d+)?\", str(text).lower())\n",
    "\n",
    "def matches(row):\n",
    "    answer_numbers = extract_numbers(row['answer'])\n",
    "    model_numbers = extract_numbers(row['model_answer_extracted'])\n",
    "\n",
    "    # Check if all numbers from answer are in model_answer\n",
    "    return all(num in model_numbers for num in answer_numbers)\n",
    "\n",
    "matched_count = math500.apply(matches, axis=1).sum()\n",
    "print(f\"Number of matching rows: {matched_count}\")"
   ]
  }
 ],
 "metadata": {
  "kernelspec": {
   "display_name": "base",
   "language": "python",
   "name": "python3"
  },
  "language_info": {
   "codemirror_mode": {
    "name": "ipython",
    "version": 3
   },
   "file_extension": ".py",
   "mimetype": "text/x-python",
   "name": "python",
   "nbconvert_exporter": "python",
   "pygments_lexer": "ipython3",
   "version": "3.12.2"
  }
 },
 "nbformat": 4,
 "nbformat_minor": 5
}
