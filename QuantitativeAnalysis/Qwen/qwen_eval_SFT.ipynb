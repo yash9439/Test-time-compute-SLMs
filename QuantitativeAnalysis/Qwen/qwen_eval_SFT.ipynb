{
 "cells": [
  {
   "cell_type": "code",
   "execution_count": 46,
   "id": "b41754c8",
   "metadata": {},
   "outputs": [],
   "source": [
    "import pandas as pd\n",
    "import re\n",
    "\n",
    "lr = \"2e4\"\n",
    "\n",
    "aime24 = pd.read_csv(f\"SFT/aime24_{lr}_sft.csv\")\n",
    "gpqa = pd.read_csv(f\"SFT/gpqa_{lr}_sft.csv\")\n",
    "math500 = pd.read_csv(f\"SFT/math500_{lr}_sft.csv\")"
   ]
  },
  {
   "cell_type": "code",
   "execution_count": 47,
   "id": "9b92bdef",
   "metadata": {},
   "outputs": [],
   "source": [
    "math500 = math500[[\"answer\",\"model_response\"]]\n",
    "gpqa = gpqa[[\"Correct Answer\", \"shuffled_correct_option\", \"model_response\"]]\n",
    "aime24 = aime24[[\"answer\",\"model_response\"]]\n",
    "\n",
    "# Function to get last 15 words\n",
    "def last_15_words(text):\n",
    "    return ' '.join(str(text).split()[-35:])\n",
    "\n",
    "# Apply to each DataFrame\n",
    "math500['model_response'] = math500['model_response'].apply(last_15_words)\n",
    "gpqa['model_response'] = gpqa['model_response'].apply(last_15_words)\n",
    "aime24['model_response'] = aime24['model_response'].apply(last_15_words)\n",
    "\n",
    "\n",
    "# Save the modified DataFrames to new CSV files\n",
    "math500.to_csv(f\"SFT/math500_{lr}_sf_extracted.csv\", index=False)\n",
    "gpqa.to_csv(f\"SFT/gpqa_{lr}_sf_extracted.csv\", index=False)\n",
    "aime24.to_csv(f\"SFT/aime24_{lr}_sf_extracted.csv\", index=False)"
   ]
  },
  {
   "cell_type": "markdown",
   "id": "b34aea6a",
   "metadata": {},
   "source": [
    "# GPQA Accuracy"
   ]
  },
  {
   "cell_type": "code",
   "execution_count": 48,
   "id": "8a927700",
   "metadata": {},
   "outputs": [
    {
     "name": "stdout",
     "output_type": "stream",
     "text": [
      "Number of matching rows: 54\n"
     ]
    }
   ],
   "source": [
    "def matches(row):\n",
    "    correct_option = row['shuffled_correct_option'].strip()\n",
    "    correct_answer = row['Correct Answer'].strip()\n",
    "    model_answer = str(row['model_response']).strip()\n",
    "\n",
    "    # Convert to lowercase for case-insensitive search\n",
    "    lowered = model_answer.lower()\n",
    "    last_correct_index = lowered.rfind(\"correct\")\n",
    "\n",
    "    # Slice only the part after the last occurrence of \"correct\"\n",
    "    if last_correct_index != -1:\n",
    "        model_answer = model_answer[last_correct_index + len(\"correct\"):].strip()\n",
    "\n",
    "    return (\n",
    "        correct_answer in model_answer or\n",
    "        f\"({correct_option})\" in model_answer\n",
    "    )\n",
    "\n",
    "matched_count = gpqa.apply(matches, axis=1).sum()\n",
    "print(f\"Number of matching rows: {matched_count}\")"
   ]
  },
  {
   "cell_type": "markdown",
   "id": "f5f919c9",
   "metadata": {},
   "source": [
    "# AIME24 Accuracy"
   ]
  },
  {
   "cell_type": "code",
   "execution_count": 49,
   "id": "8f963cbb",
   "metadata": {},
   "outputs": [
    {
     "name": "stdout",
     "output_type": "stream",
     "text": [
      "Number of matching rows: 1\n"
     ]
    }
   ],
   "source": [
    "def extract_numbers(text):\n",
    "    # Extract integers, decimals, scientific notation, and negative numbers\n",
    "    return re.findall(r\"-?\\d+(?:\\.\\d+)?(?:e[+-]?\\d+)?\", str(text).lower())\n",
    "\n",
    "def matches(row):\n",
    "    answer_numbers = extract_numbers(row['answer'])\n",
    "    model_numbers = extract_numbers(row['model_response'])\n",
    "\n",
    "    # Check if all numbers from answer are in model_answer\n",
    "    return all(num in model_numbers for num in answer_numbers)\n",
    "\n",
    "matched_count = aime24.apply(matches, axis=1).sum()\n",
    "print(f\"Number of matching rows: {matched_count}\")"
   ]
  },
  {
   "cell_type": "markdown",
   "id": "11f7e2b3",
   "metadata": {},
   "source": [
    "# MATH500"
   ]
  },
  {
   "cell_type": "code",
   "execution_count": 50,
   "id": "432bdc96",
   "metadata": {},
   "outputs": [
    {
     "name": "stdout",
     "output_type": "stream",
     "text": [
      "Number of matching rows: 176\n"
     ]
    }
   ],
   "source": [
    "def extract_numbers(text):\n",
    "    # Extract integers, decimals, scientific notation, and negative numbers\n",
    "    return re.findall(r\"-?\\d+(?:\\.\\d+)?(?:e[+-]?\\d+)?\", str(text).lower())\n",
    "\n",
    "def matches(row):\n",
    "    answer_numbers = extract_numbers(row['answer'])\n",
    "    model_numbers = extract_numbers(row['model_response'])\n",
    "\n",
    "    # Check if all numbers from answer are in model_answer\n",
    "    return all(num in model_numbers for num in answer_numbers)\n",
    "\n",
    "matched_count = math500.apply(matches, axis=1).sum()\n",
    "print(f\"Number of matching rows: {matched_count}\")"
   ]
  }
 ],
 "metadata": {
  "kernelspec": {
   "display_name": "base",
   "language": "python",
   "name": "python3"
  },
  "language_info": {
   "codemirror_mode": {
    "name": "ipython",
    "version": 3
   },
   "file_extension": ".py",
   "mimetype": "text/x-python",
   "name": "python",
   "nbconvert_exporter": "python",
   "pygments_lexer": "ipython3",
   "version": "3.12.2"
  }
 },
 "nbformat": 4,
 "nbformat_minor": 5
}
